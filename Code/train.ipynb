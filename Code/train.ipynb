{
 "cells": [
  {
   "cell_type": "code",
   "execution_count": 1,
   "metadata": {},
   "outputs": [],
   "source": [
    "import pandas as pd \n",
    "import numpy as np"
   ]
  },
  {
   "cell_type": "code",
   "execution_count": 2,
   "metadata": {},
   "outputs": [],
   "source": [
    "class MyArray(object):\n",
    "    def __init__(self, array):\n",
    "        self.size = len(array)\n",
    "        # self.capacity = capacity\n",
    "        self.array = array\n",
    "        \n",
    "    def find_nth(self, n):\n",
    "        if n < self.size or n == self.size:\n",
    "            return self.array[n - 1]\n",
    "        else:\n",
    "            return None\n",
    "    \n",
    "    def insert(self, index, element):\n",
    "        self.array.insert(index, element)\n",
    "        \n",
    "    def delete(self, n):\n",
    "        '''\n",
    "        if n < 0 or n > self.size:\n",
    "            print('超出数组实际元素范围')\n",
    "        for i in range(n, self.size - 1):\n",
    "            self.array[i] = self.array[i + 1]\n",
    "        self.array[self.size - 1] = None\n",
    "        '''\n",
    "        if n < 0 or n >self.size:\n",
    "            print('索引超出数组大小')\n",
    "        else:\n",
    "            self.array.pop(n)\n",
    "    "
   ]
  },
  {
   "cell_type": "code",
   "execution_count": 4,
   "metadata": {
    "scrolled": true
   },
   "outputs": [
    {
     "data": {
      "text/plain": [
       "<__main__.MyArray at 0x1365791b860>"
      ]
     },
     "execution_count": 4,
     "metadata": {},
     "output_type": "execute_result"
    }
   ],
   "source": [
    "a = MyArray([1, 2, 3, 4])\n",
    "a"
   ]
  },
  {
   "cell_type": "code",
   "execution_count": 98,
   "metadata": {},
   "outputs": [],
   "source": []
  },
  {
   "cell_type": "code",
   "execution_count": 63,
   "metadata": {},
   "outputs": [],
   "source": [
    "# 链表\n",
    "class Node(object):\n",
    "    def __init__(self, data):\n",
    "        self.data = data\n",
    "        self.Next = None\n",
    "        \n",
    "class SingleLink(object):\n",
    "    def __init__(self):\n",
    "        self.head = Node(None)\n",
    "        self.last = Node(None)\n",
    "        self.size = 0\n",
    "    # 在链表中插入数据    \n",
    "    def insert(self, new_data, index):\n",
    "        \n",
    "        new_node = Node(new_data)\n",
    "        if self.size == 0:\n",
    "            self.head = new_node\n",
    "            self.last = new_node\n",
    "            \n",
    "        # 在头结点插入节点    \n",
    "        elif index == 0:\n",
    "            new_node.Next = self.head\n",
    "            self.head = new_node\n",
    "            \n",
    "        elif index == self.size:\n",
    "            self.last.Next = new_node\n",
    "            self.last = new_node\n",
    "        else:\n",
    "            prevNode = self.get(index - 1)\n",
    "            new_node.Next = prevNode.Next\n",
    "            prevNode.Next = new_node\n",
    "        \n",
    "        self.size = self.size + 1\n",
    "        \n",
    "    # 查找指定位置节点\n",
    "    def get(self, index):\n",
    "        if index < 0 or index > self.size:\n",
    "            print('超出查找范围')\n",
    "        temp = self.head\n",
    "        for i in range(index):\n",
    "            temp = temp.Next\n",
    "        return temp\n",
    "        \n",
    "    # 获取链表的大小\n",
    "    def get_link_size(self):\n",
    "        return self.size\n",
    "    # 删除链表中的一个节点\n",
    "    def delete_node(self, index):\n",
    "        if index < 0 or index > self.size:\n",
    "            print('超出查找范围')\n",
    "        removeNode = Node(None)\n",
    "        # 删除头结点\n",
    "        if index == 0:\n",
    "            removeNode = self.head\n",
    "            self.head = self.head.Next\n",
    "        elif index == index - 1:\n",
    "            temp = self.get(index - 1)\n",
    "            removeNode = temp.Next\n",
    "            temp.Next = None\n",
    "            self.last = temp\n",
    "        else:\n",
    "            temp = get(index - 1)\n",
    "            removeNode = temp.Next\n",
    "            temp.Next = temp.Next.Next\n",
    "        self.size = self.size - 1\n",
    "        removeNode = None\n",
    "      \n",
    "    # 修改链表的节点数据\n",
    "    def modify(self, index, data):\n",
    "        if index < 0 or index > self.size:\n",
    "            print('超出查找范围')\n",
    "        temp = self.get(index)\n",
    "        temp.data = data\n",
    "        "
   ]
  },
  {
   "cell_type": "code",
   "execution_count": 72,
   "metadata": {},
   "outputs": [
    {
     "name": "stdout",
     "output_type": "stream",
     "text": [
      "20\n",
      "33\n"
     ]
    }
   ],
   "source": [
    "for i in range(link.get_link_size()):\n",
    "    print(link.get(i).data)"
   ]
  },
  {
   "cell_type": "code",
   "execution_count": null,
   "metadata": {},
   "outputs": [],
   "source": []
  }
 ],
 "metadata": {
  "kernelspec": {
   "display_name": "Python 3",
   "language": "python",
   "name": "python3"
  },
  "language_info": {
   "codemirror_mode": {
    "name": "ipython",
    "version": 3
   },
   "file_extension": ".py",
   "mimetype": "text/x-python",
   "name": "python",
   "nbconvert_exporter": "python",
   "pygments_lexer": "ipython3",
   "version": "3.7.0"
  }
 },
 "nbformat": 4,
 "nbformat_minor": 4
}
